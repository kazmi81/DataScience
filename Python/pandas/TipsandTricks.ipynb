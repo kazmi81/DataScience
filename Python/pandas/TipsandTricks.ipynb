{
 "cells": [
  {
   "cell_type": "markdown",
   "metadata": {
    "tags": []
   },
   "source": [
    "## Pandas Tips and Tricks lectures\n",
    "---\n",
    "This is notebook will have all the tips and tricks of Pandas library\n",
    "---\n",
    "This Tips and Trips are from codanics\n",
    "[Tips and Trics of Pandas](https://codanics.com/mastering-the-pandas-library/)\n"
   ]
  }
 ],
 "metadata": {
  "kernelspec": {
   "display_name": "python_eda",
   "language": "python",
   "name": "python3"
  },
  "language_info": {
   "name": "python",
   "version": "3.12.0"
  }
 },
 "nbformat": 4,
 "nbformat_minor": 2
}
